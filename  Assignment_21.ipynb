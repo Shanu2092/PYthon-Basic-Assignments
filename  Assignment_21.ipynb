{
 "cells": [
  {
   "cell_type": "markdown",
   "id": "44724254",
   "metadata": {},
   "source": [
    "1. Add the current date to the text file today.txt as a string."
   ]
  },
  {
   "cell_type": "code",
   "execution_count": 1,
   "id": "a9eb7357",
   "metadata": {},
   "outputs": [],
   "source": [
    "from datetime import date"
   ]
  },
  {
   "cell_type": "code",
   "execution_count": 7,
   "id": "5504fc47",
   "metadata": {},
   "outputs": [],
   "source": [
    "today = date.today()"
   ]
  },
  {
   "cell_type": "code",
   "execution_count": 12,
   "id": "1489a5de",
   "metadata": {},
   "outputs": [],
   "source": [
    "today_str = today.isoformat()"
   ]
  },
  {
   "cell_type": "code",
   "execution_count": 13,
   "id": "9bf87d49",
   "metadata": {},
   "outputs": [],
   "source": [
    "with open('today1', 'wt') as output:\n",
    "    print(today_str, file=output)"
   ]
  },
  {
   "cell_type": "markdown",
   "id": "057060a1",
   "metadata": {},
   "source": [
    "2. Read the text file today.txt into the string today_string"
   ]
  },
  {
   "cell_type": "code",
   "execution_count": 15,
   "id": "92769abd",
   "metadata": {},
   "outputs": [],
   "source": [
    "with open('today1', 'rt') as input:\n",
    "    today_string = input.read()"
   ]
  },
  {
   "cell_type": "code",
   "execution_count": 16,
   "id": "921f791b",
   "metadata": {},
   "outputs": [
    {
     "data": {
      "text/plain": [
       "'2022-03-18\\n'"
      ]
     },
     "execution_count": 16,
     "metadata": {},
     "output_type": "execute_result"
    }
   ],
   "source": [
    "today_string"
   ]
  },
  {
   "cell_type": "markdown",
   "id": "9cd6f106",
   "metadata": {},
   "source": [
    "3. Parse the date from today_string."
   ]
  },
  {
   "cell_type": "code",
   "execution_count": 18,
   "id": "863e28c9",
   "metadata": {},
   "outputs": [],
   "source": [
    "fmt = '%Y-%m-%d\\n'"
   ]
  },
  {
   "cell_type": "code",
   "execution_count": 19,
   "id": "56b2941a",
   "metadata": {},
   "outputs": [
    {
     "data": {
      "text/plain": [
       "'%Y-%m-%d\\n'"
      ]
     },
     "execution_count": 19,
     "metadata": {},
     "output_type": "execute_result"
    }
   ],
   "source": [
    "fmt"
   ]
  },
  {
   "cell_type": "markdown",
   "id": "57bcf0c8",
   "metadata": {},
   "source": [
    "4. List the files in your current directory"
   ]
  },
  {
   "cell_type": "code",
   "execution_count": 20,
   "id": "eb3b129f",
   "metadata": {},
   "outputs": [],
   "source": [
    "import os"
   ]
  },
  {
   "cell_type": "code",
   "execution_count": 22,
   "id": "71f18031",
   "metadata": {},
   "outputs": [
    {
     "data": {
      "text/plain": [
       "[' Assignment_21.ipynb',\n",
       " ' today.txt',\n",
       " '.ipynb_checkpoints',\n",
       " 'Assignment_16_Dl.ipynb',\n",
       " 'Assignment_1_DL.ipynb',\n",
       " 'Assignment_2_Dl-Copy1.ipynb',\n",
       " 'Assignment_2_DL.ipynb',\n",
       " 'Assignment_3_DL.ipynb',\n",
       " 'image.jpg',\n",
       " 'my_cifar10_alpha_dropout_model.h5',\n",
       " 'my_cifar10_bn_model.h5',\n",
       " 'my_cifar10_logs',\n",
       " 'my_cifar10_model.h5',\n",
       " 'my_cifar10_selu_model.h5',\n",
       " 'today1',\n",
       " 'Untitled.ipynb']"
      ]
     },
     "execution_count": 22,
     "metadata": {},
     "output_type": "execute_result"
    }
   ],
   "source": [
    "os.listdir(\".\")"
   ]
  },
  {
   "cell_type": "markdown",
   "id": "8cc80651",
   "metadata": {},
   "source": [
    "5. Create a list of all of the files in your parent directory (minimum five files should be available)."
   ]
  },
  {
   "cell_type": "code",
   "execution_count": 24,
   "id": "e2af30ac",
   "metadata": {},
   "outputs": [
    {
     "data": {
      "text/plain": [
       "['.git',\n",
       " '.idea',\n",
       " '.ipynb_checkpoints',\n",
       " '02_linear_regression.ipynb',\n",
       " '07_08_Regularization_(1).ipynb',\n",
       " '11_training_deep_neural_networks.ipynb',\n",
       " 'Aurélien-Géron-Hands-On-Machine-Learning-with-Scikit-Learn-Keras-and-Tensorflow.pdf',\n",
       " 'callback.ipynb',\n",
       " 'car1.jpeg',\n",
       " 'car1.jpg',\n",
       " 'CNN-classifier',\n",
       " 'CNN_example.ipynb',\n",
       " 'CV_Day13_Feb12.ipynb',\n",
       " 'Day-01_DL_INTROpart1_NEW.ipynb',\n",
       " 'Day-02_DL_FSDS.pdf',\n",
       " 'Day-02_Perceptron_Implementation_DL_FSDS.ipynb',\n",
       " 'Day-03_demo_tf_keras.ipynb',\n",
       " 'Day-03_DL_FSDS.pdf',\n",
       " 'Day-04_DL_FSDS.pdf',\n",
       " 'Day-06_DL_FSDS.pdf',\n",
       " 'Day-07_DL_FSDS_part-1.pdf',\n",
       " 'Day-07_DL_FSDS_part-2.pdf',\n",
       " 'Day-07_DL_FSDS_part-3.pdf',\n",
       " 'Day-08_Batch_Normalization.ipynb',\n",
       " 'Day-08_DL_FSDS.pdf',\n",
       " 'Day-09_DL_FSDS.pdf',\n",
       " 'Day-10_DL_FSDS-01.pdf',\n",
       " 'Day-11_DL_FSDS-01.pdf',\n",
       " 'Day-11_DL_FSDS-02.pdf',\n",
       " 'Day-12_DL_FSDS.pdf',\n",
       " 'Day-13_DL_FSDS.pdf',\n",
       " 'Day-14_DL_FSDS.pdf',\n",
       " 'Day_08_Transfer_Learning.ipynb',\n",
       " 'Day_09_Scaling_Shifting.ipynb',\n",
       " 'Deep_Learning_Assignment',\n",
       " 'DropoutMarkedResearchPaper.pdf',\n",
       " 'Dropout_example.ipynb',\n",
       " 'FEB-13_CNN.ipynb',\n",
       " 'image.jpg',\n",
       " 'image_grayscale.jpeg',\n",
       " 'Image_understanding (1).ipynb',\n",
       " 'Image_understanding.ipynb',\n",
       " 'ML_Assignment_1.ipynb',\n",
       " 'pretrained_mnist_model.h5',\n",
       " 'PyTorch_Linear_Regression.ipynb',\n",
       " 'TensorFlow.ipynb']"
      ]
     },
     "execution_count": 24,
     "metadata": {},
     "output_type": "execute_result"
    }
   ],
   "source": [
    " os.listdir('..')"
   ]
  },
  {
   "cell_type": "markdown",
   "id": "d342d1dd",
   "metadata": {},
   "source": [
    "6. Use multiprocessing to create three separate processes. Make each one wait a random number of seconds between one and five, print the current time, and then exit."
   ]
  },
  {
   "cell_type": "code",
   "execution_count": 28,
   "id": "b183f4af",
   "metadata": {},
   "outputs": [],
   "source": [
    "import multiprocessing\n",
    "\n",
    "def now(seconds): \n",
    "    from datetime import datetime \n",
    "    from time import sleep \n",
    "    sleep(seconds) \n",
    "    print('wait', seconds, 'seconds, time is', datetime.utcnow())\n",
    "\n",
    "if __name__ == 'main': \n",
    "    import random \n",
    "    for n in range(3): \n",
    "        seconds = random.random() \n",
    "        proc = multiprocessing.Process(target=now, args=(seconds,)) \n",
    "        proc.start()"
   ]
  },
  {
   "cell_type": "markdown",
   "id": "aa8beb93",
   "metadata": {},
   "source": [
    "7. Create a date object of your day of birth."
   ]
  },
  {
   "cell_type": "code",
   "execution_count": 29,
   "id": "eb55face",
   "metadata": {},
   "outputs": [],
   "source": [
    "bd = date(2000, 8, 10)"
   ]
  },
  {
   "cell_type": "code",
   "execution_count": 30,
   "id": "ac46ca26",
   "metadata": {},
   "outputs": [
    {
     "data": {
      "text/plain": [
       "datetime.date(2000, 8, 10)"
      ]
     },
     "execution_count": 30,
     "metadata": {},
     "output_type": "execute_result"
    }
   ],
   "source": [
    "bd"
   ]
  },
  {
   "cell_type": "markdown",
   "id": "b16a9d81",
   "metadata": {},
   "source": [
    "8. What day of the week was your day of birth?"
   ]
  },
  {
   "cell_type": "code",
   "execution_count": 31,
   "id": "db9e1be7",
   "metadata": {},
   "outputs": [
    {
     "data": {
      "text/plain": [
       "3"
      ]
     },
     "execution_count": 31,
     "metadata": {},
     "output_type": "execute_result"
    }
   ],
   "source": [
    "bd.weekday()"
   ]
  },
  {
   "cell_type": "markdown",
   "id": "4869b633",
   "metadata": {},
   "source": [
    "9. When will you be (or when were you) 10,000 days old?"
   ]
  },
  {
   "cell_type": "code",
   "execution_count": 33,
   "id": "7daa6216",
   "metadata": {},
   "outputs": [],
   "source": [
    "from datetime import timedelta"
   ]
  },
  {
   "cell_type": "code",
   "execution_count": 34,
   "id": "045eec6e",
   "metadata": {},
   "outputs": [],
   "source": [
    "thanos = bd + timedelta(days = 10000)"
   ]
  },
  {
   "cell_type": "code",
   "execution_count": 35,
   "id": "8a10c1b3",
   "metadata": {},
   "outputs": [
    {
     "data": {
      "text/plain": [
       "datetime.date(2027, 12, 27)"
      ]
     },
     "execution_count": 35,
     "metadata": {},
     "output_type": "execute_result"
    }
   ],
   "source": [
    "thanos"
   ]
  }
 ],
 "metadata": {
  "kernelspec": {
   "display_name": "Python 3 (ipykernel)",
   "language": "python",
   "name": "python3"
  },
  "language_info": {
   "codemirror_mode": {
    "name": "ipython",
    "version": 3
   },
   "file_extension": ".py",
   "mimetype": "text/x-python",
   "name": "python",
   "nbconvert_exporter": "python",
   "pygments_lexer": "ipython3",
   "version": "3.9.7"
  }
 },
 "nbformat": 4,
 "nbformat_minor": 5
}
