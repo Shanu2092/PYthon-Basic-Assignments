{
  "nbformat": 4,
  "nbformat_minor": 0,
  "metadata": {
    "colab": {
      "name": "Screening_iNeuron.ipynb",
      "provenance": [],
      "authorship_tag": "ABX9TyN3vkbG1UnI5o+wN2zQ8XUQ",
      "include_colab_link": true
    },
    "kernelspec": {
      "name": "python3",
      "display_name": "Python 3"
    },
    "language_info": {
      "name": "python"
    }
  },
  "cells": [
    {
      "cell_type": "markdown",
      "metadata": {
        "id": "view-in-github",
        "colab_type": "text"
      },
      "source": [
        "<a href=\"https://colab.research.google.com/github/Shanu2092/Python-Basic-Assignments/blob/main/Screening_iNeuron.ipynb\" target=\"_parent\"><img src=\"https://colab.research.google.com/assets/colab-badge.svg\" alt=\"Open In Colab\"/></a>"
      ]
    },
    {
      "cell_type": "markdown",
      "source": [
        "1. Create a function in python to read the text file and replace specific content of the file."
      ],
      "metadata": {
        "id": "r7900NXCNxFP"
      }
    },
    {
      "cell_type": "code",
      "source": [
        "search = \"placement\"\n",
        "replacement = \"screening\"\n",
        "\n",
        "with open(r'example.txt' ,'r') as file:\n",
        "    data = file.read()\n",
        "    data = data.replace(search,replacement)\n",
        "\n",
        "with open(r\"example.txt\",'w') as file:\n",
        "    file.write(data)"
      ],
      "metadata": {
        "id": "pq1wYq73boWo"
      },
      "execution_count": 1,
      "outputs": []
    },
    {
      "cell_type": "markdown",
      "source": [
        "2. Demonstrate use of abstract class, multiple inheritance and decorator in\n",
        "python using examples.\n",
        "\n",
        "\n",
        "Ans. \n",
        "Abstract classes are classes that contain one or more abstract methods. An abstract method is a method that is declared, but contains no implementation. Abstract classes cannot be instantiated, and require subclasses to provide implementations for the abstract methods.\n",
        "\n"
      ],
      "metadata": {
        "id": "dZteZJOGN0Cf"
      }
    },
    {
      "cell_type": "code",
      "source": [
        "##Abstract Class\n",
        "from abc import ABC, abstractmethod\n",
        " \n",
        "class AbstractClassExample(ABC):\n",
        " \n",
        "    def __init__(self, value):\n",
        "        self.value = value\n",
        "        super().__init__()\n",
        "    \n",
        "    @abstractmethod\n",
        "    def do_something(self):\n",
        "        pass\n"
      ],
      "metadata": {
        "id": "5Umk_7wNN3Mp"
      },
      "execution_count": 2,
      "outputs": []
    },
    {
      "cell_type": "code",
      "source": [
        "##Multiple Inheritance\n",
        "class calc1():\n",
        "    def sum(self,a,b):\n",
        "        return (a+b)\n",
        "\n",
        "class calc2():\n",
        "    def mul(self,a,b):\n",
        "        return (a*b)\n",
        "\n",
        "class derived(calc1,calc2):\n",
        "    def sub(self,a,b):\n",
        "        return (a-b)\n",
        "\n",
        "       "
      ],
      "metadata": {
        "id": "F6Rd9mnHzZfy"
      },
      "execution_count": 6,
      "outputs": []
    },
    {
      "cell_type": "code",
      "source": [
        "d = derived()\n",
        "\n",
        "d.sum(10,20)\n",
        "d.mul(20,10)\n",
        "d.sub(20,10)"
      ],
      "metadata": {
        "colab": {
          "base_uri": "https://localhost:8080/"
        },
        "id": "kb2UQ3Ya0dbX",
        "outputId": "ff9c9deb-f744-4d93-be6d-1ad91ddc7c2d"
      },
      "execution_count": 9,
      "outputs": [
        {
          "output_type": "execute_result",
          "data": {
            "text/plain": [
              "10"
            ]
          },
          "metadata": {},
          "execution_count": 9
        }
      ]
    },
    {
      "cell_type": "code",
      "source": [
        "##decorator \n",
        "## Decorators are used to modify the behaviour of a function\n",
        "## They behave like a nested function\n",
        "\n",
        "def external_func():\n",
        "\n",
        "    def internal_func():\n",
        "        print(\"internal function\")\n",
        "\n",
        "    internal_func()"
      ],
      "metadata": {
        "id": "k8unfPiK047x"
      },
      "execution_count": 10,
      "outputs": []
    },
    {
      "cell_type": "code",
      "source": [
        "external_func()"
      ],
      "metadata": {
        "colab": {
          "base_uri": "https://localhost:8080/"
        },
        "id": "Ymj-RW-_DhRH",
        "outputId": "834bd2a5-ff52-475b-a2a1-431bd97f822d"
      },
      "execution_count": 14,
      "outputs": [
        {
          "output_type": "stream",
          "name": "stdout",
          "text": [
            "internal function\n"
          ]
        }
      ]
    },
    {
      "cell_type": "code",
      "source": [
        "internal_func()"
      ],
      "metadata": {
        "colab": {
          "base_uri": "https://localhost:8080/",
          "height": 165
        },
        "id": "uNKVC7HPDZpW",
        "outputId": "3c908a51-5423-476c-9c09-eae639da34de"
      },
      "execution_count": 12,
      "outputs": [
        {
          "output_type": "error",
          "ename": "NameError",
          "evalue": "ignored",
          "traceback": [
            "\u001b[0;31m---------------------------------------------------------------------------\u001b[0m",
            "\u001b[0;31mNameError\u001b[0m                                 Traceback (most recent call last)",
            "\u001b[0;32m<ipython-input-12-83cf56ef0f06>\u001b[0m in \u001b[0;36m<module>\u001b[0;34m()\u001b[0m\n\u001b[0;32m----> 1\u001b[0;31m \u001b[0minternal_func\u001b[0m\u001b[0;34m(\u001b[0m\u001b[0;34m)\u001b[0m\u001b[0;34m\u001b[0m\u001b[0;34m\u001b[0m\u001b[0m\n\u001b[0m",
            "\u001b[0;31mNameError\u001b[0m: name 'internal_func' is not defined"
          ]
        }
      ]
    }
  ]
}