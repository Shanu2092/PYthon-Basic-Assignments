{
 "cells": [
  {
   "cell_type": "code",
   "execution_count": null,
   "metadata": {},
   "outputs": [],
   "source": [
    "'''1. How do you distinguish between shutil.copy() and shutil.copytree()?\n",
    "2. What function is used to rename files??\n",
    "3. What is the difference between the delete functions in the send2trash and shutil modules?\n",
    "4.ZipFile objects have a close() method just like File objects’ close() method. \n",
    "What ZipFile method is m equivalent to File objects’ open() method?\n",
    "5. Create a programme that searches a folder tree for files with a certain file extension \n",
    "(such as .pdf or .jpg). Copy these files from whatever location they are in to a new folder.'''"
   ]
  },
  {
   "cell_type": "code",
   "execution_count": null,
   "metadata": {},
   "outputs": [],
   "source": [
    "#Q1. How do you distinguish between shutil.copy() and shutil.copytree()?\n",
    "\n",
    "#Ans. shutil.copy() is use to copy a file to another directory while shutil.copytree() is \n",
    "# used to copy entire directory  "
   ]
  },
  {
   "cell_type": "code",
   "execution_count": null,
   "metadata": {},
   "outputs": [],
   "source": [
    "#Q2. What function is used to rename files??\n",
    "\n",
    "#Ans. shutil.rename()"
   ]
  },
  {
   "cell_type": "code",
   "execution_count": null,
   "metadata": {},
   "outputs": [],
   "source": [
    "#Q3. What is the difference between the delete functions in the send2trash and shutil modules?\n",
    "\n",
    "#Ans. send2trash will move the file to the recycle bin but shutil modules will permanently delete\n",
    "# the file"
   ]
  },
  {
   "cell_type": "code",
   "execution_count": null,
   "metadata": {},
   "outputs": [],
   "source": [
    "#Q4.ZipFile objects have a close() method just like File objects’ close() method. \n",
    "#What ZipFile method is m equivalent to File objects’ open() method?\n",
    "\n",
    "#Ans. The zipfile.ZipFile() function is equivalent to the open() function; the first argument is \n",
    "#the filename, and the second argument is the mode to open the ZIP file in (read, write, or append)."
   ]
  },
  {
   "cell_type": "code",
   "execution_count": null,
   "metadata": {},
   "outputs": [],
   "source": [
    "#Q5. Create a programme that searches a folder tree for files with a certain file extension \n",
    "#(such as .pdf or .jpg). Copy these files from whatever location they are in to a new folder.\n",
    "\n",
    "#Ans. \n",
    "def moveFileType(folder):\n",
    "    for folderName, subfolders, filenames in os.walk(folder):\n",
    "        for subfolder in subfolders:\n",
    "            for filename in filenames:\n",
    "                if filename.endswith('.jpg'):\n",
    "                    shutil.copy(folder + filename, '<destination>')"
   ]
  }
 ],
 "metadata": {
  "kernelspec": {
   "display_name": "Python 3 (ipykernel)",
   "language": "python",
   "name": "python3"
  },
  "language_info": {
   "codemirror_mode": {
    "name": "ipython",
    "version": 3
   },
   "file_extension": ".py",
   "mimetype": "text/x-python",
   "name": "python",
   "nbconvert_exporter": "python",
   "pygments_lexer": "ipython3",
   "version": "3.8.5"
  }
 },
 "nbformat": 4,
 "nbformat_minor": 4
}
