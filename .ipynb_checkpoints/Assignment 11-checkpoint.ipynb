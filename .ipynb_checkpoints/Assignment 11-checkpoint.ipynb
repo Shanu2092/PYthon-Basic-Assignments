{
 "cells": [
  {
   "cell_type": "code",
   "execution_count": null,
   "id": "b43a6d05",
   "metadata": {},
   "outputs": [],
   "source": [
    "#Q1. Create an assert statement that throws an AssertionError if the variable spam is a negative\n",
    "#integer.\n",
    "\n",
    "x = -9\n",
    "assert x > 0, \"Negative no \"\n",
    "print('x is a positive number.')"
   ]
  },
  {
   "cell_type": "raw",
   "id": "f292de48",
   "metadata": {},
   "source": [
    "2. Write an assert statement that triggers an AssertionError if the variables eggs and bacon contain strings that are the same as each other, even if their cases are different (that is hello and hello are considered the same, and goodbye and GOODbye are also considered the same)."
   ]
  },
  {
   "cell_type": "code",
   "execution_count": 3,
   "id": "79dbd576",
   "metadata": {},
   "outputs": [],
   "source": [
    "eggs = 'hello'\n",
    "bacon = 'goodbye'\n",
    "\n",
    "def assert1(eggs,bacon):\n",
    "    for i in eggs:\n",
    "        for j in bacon:\n",
    "            assert i.upper() != j.upper(),\"strings cannot be the same\"\n",
    "        print('String error')"
   ]
  },
  {
   "cell_type": "code",
   "execution_count": 6,
   "id": "f394f746",
   "metadata": {},
   "outputs": [
    {
     "ename": "AssertionError",
     "evalue": "Assertion error",
     "output_type": "error",
     "traceback": [
      "\u001b[1;31m---------------------------------------------------------------------------\u001b[0m",
      "\u001b[1;31mAssertionError\u001b[0m                            Traceback (most recent call last)",
      "\u001b[1;32m~\\AppData\\Local\\Temp/ipykernel_9312/1100228661.py\u001b[0m in \u001b[0;36m<module>\u001b[1;34m\u001b[0m\n\u001b[0;32m      2\u001b[0m \u001b[1;33m\u001b[0m\u001b[0m\n\u001b[0;32m      3\u001b[0m \u001b[0ma\u001b[0m \u001b[1;33m=\u001b[0m \u001b[1;32mTrue\u001b[0m\u001b[1;33m\u001b[0m\u001b[1;33m\u001b[0m\u001b[0m\n\u001b[1;32m----> 4\u001b[1;33m \u001b[1;32massert\u001b[0m \u001b[0ma\u001b[0m \u001b[1;33m==\u001b[0m \u001b[1;32mFalse\u001b[0m\u001b[1;33m,\u001b[0m\u001b[1;34m'Assertion error'\u001b[0m\u001b[1;33m\u001b[0m\u001b[1;33m\u001b[0m\u001b[0m\n\u001b[0m",
      "\u001b[1;31mAssertionError\u001b[0m: Assertion error"
     ]
    }
   ],
   "source": [
    "#Q3. Create an assert statement that throws an AssertionError every time.\n",
    "\n",
    "a = True \n",
    "assert a == False,'Assertion error'"
   ]
  },
  {
   "cell_type": "code",
   "execution_count": 9,
   "id": "936efa22",
   "metadata": {},
   "outputs": [
    {
     "ename": "TypeError",
     "evalue": "debug() missing 1 required positional argument: 'msg'",
     "output_type": "error",
     "traceback": [
      "\u001b[1;31m---------------------------------------------------------------------------\u001b[0m",
      "\u001b[1;31mTypeError\u001b[0m                                 Traceback (most recent call last)",
      "\u001b[1;32m~\\AppData\\Local\\Temp/ipykernel_9312/829610201.py\u001b[0m in \u001b[0;36m<module>\u001b[1;34m\u001b[0m\n\u001b[0;32m      2\u001b[0m \u001b[1;33m\u001b[0m\u001b[0m\n\u001b[0;32m      3\u001b[0m \u001b[1;32mimport\u001b[0m \u001b[0mlogging\u001b[0m\u001b[1;33m\u001b[0m\u001b[1;33m\u001b[0m\u001b[0m\n\u001b[1;32m----> 4\u001b[1;33m \u001b[0mlogging\u001b[0m\u001b[1;33m.\u001b[0m\u001b[0mdebug\u001b[0m\u001b[1;33m(\u001b[0m\u001b[1;33m)\u001b[0m\u001b[1;33m\u001b[0m\u001b[1;33m\u001b[0m\u001b[0m\n\u001b[0m",
      "\u001b[1;31mTypeError\u001b[0m: debug() missing 1 required positional argument: 'msg'"
     ]
    }
   ],
   "source": [
    "#Q4. What are the two lines that must be present in your software in order to call logging.debug()?\n",
    "\n",
    "import logging\n",
    "logging.debug()"
   ]
  },
  {
   "cell_type": "code",
   "execution_count": 4,
   "id": "f5e6f443",
   "metadata": {
    "scrolled": true
   },
   "outputs": [
    {
     "name": "stdout",
     "output_type": "stream",
     "text": [
      "String error\n"
     ]
    },
    {
     "ename": "AssertionError",
     "evalue": "strings cannot be the same",
     "output_type": "error",
     "traceback": [
      "\u001b[1;31m---------------------------------------------------------------------------\u001b[0m",
      "\u001b[1;31mAssertionError\u001b[0m                            Traceback (most recent call last)",
      "\u001b[1;32m~\\AppData\\Local\\Temp/ipykernel_9312/760036437.py\u001b[0m in \u001b[0;36m<module>\u001b[1;34m\u001b[0m\n\u001b[1;32m----> 1\u001b[1;33m \u001b[0massert1\u001b[0m\u001b[1;33m(\u001b[0m\u001b[0meggs\u001b[0m\u001b[1;33m,\u001b[0m\u001b[0mbacon\u001b[0m\u001b[1;33m)\u001b[0m\u001b[1;33m\u001b[0m\u001b[1;33m\u001b[0m\u001b[0m\n\u001b[0m",
      "\u001b[1;32m~\\AppData\\Local\\Temp/ipykernel_9312/1097283228.py\u001b[0m in \u001b[0;36massert1\u001b[1;34m(eggs, bacon)\u001b[0m\n\u001b[0;32m      5\u001b[0m     \u001b[1;32mfor\u001b[0m \u001b[0mi\u001b[0m \u001b[1;32min\u001b[0m \u001b[0meggs\u001b[0m\u001b[1;33m:\u001b[0m\u001b[1;33m\u001b[0m\u001b[1;33m\u001b[0m\u001b[0m\n\u001b[0;32m      6\u001b[0m         \u001b[1;32mfor\u001b[0m \u001b[0mj\u001b[0m \u001b[1;32min\u001b[0m \u001b[0mbacon\u001b[0m\u001b[1;33m:\u001b[0m\u001b[1;33m\u001b[0m\u001b[1;33m\u001b[0m\u001b[0m\n\u001b[1;32m----> 7\u001b[1;33m             \u001b[1;32massert\u001b[0m \u001b[0mi\u001b[0m\u001b[1;33m.\u001b[0m\u001b[0mupper\u001b[0m\u001b[1;33m(\u001b[0m\u001b[1;33m)\u001b[0m \u001b[1;33m!=\u001b[0m \u001b[0mj\u001b[0m\u001b[1;33m.\u001b[0m\u001b[0mupper\u001b[0m\u001b[1;33m(\u001b[0m\u001b[1;33m)\u001b[0m\u001b[1;33m,\u001b[0m\u001b[1;34m\"strings cannot be the same\"\u001b[0m\u001b[1;33m\u001b[0m\u001b[1;33m\u001b[0m\u001b[0m\n\u001b[0m\u001b[0;32m      8\u001b[0m         \u001b[0mprint\u001b[0m\u001b[1;33m(\u001b[0m\u001b[1;34m'String error'\u001b[0m\u001b[1;33m)\u001b[0m\u001b[1;33m\u001b[0m\u001b[1;33m\u001b[0m\u001b[0m\n",
      "\u001b[1;31mAssertionError\u001b[0m: strings cannot be the same"
     ]
    }
   ],
   "source": [
    "assert1(eggs,bacon)"
   ]
  },
  {
   "cell_type": "code",
   "execution_count": null,
   "id": "50d00b59",
   "metadata": {},
   "outputs": [],
   "source": [
    "#Q5. What are the two lines that your program must have in order to have logging.debug() send a\n",
    "#logging message to a file named programLog.txt?\n",
    "\n",
    "#Ans. \n",
    "\n",
    "import logging\n",
    "logging.basicConfig(level=logging.DEBUG, format=' %(asctime)s - %(levelname)s - %(message)s '"
   ]
  },
  {
   "cell_type": "markdown",
   "id": "2e286b7d",
   "metadata": {},
   "source": [
    "Q6. What are the five levels of logging?\n",
    "\n",
    "Ans. 'debug, info, warning, error, and critical'"
   ]
  },
  {
   "cell_type": "markdown",
   "id": "d08a9ec0",
   "metadata": {},
   "source": [
    "Q7. What line of code would you add to your software to disable all logging messages?\n",
    "\n",
    "Ans. logging.disable(logging.DEBUG)"
   ]
  },
  {
   "cell_type": "markdown",
   "id": "3796166f",
   "metadata": {},
   "source": [
    "Q8.Why is using logging messages better than using print() to display the same message?\n",
    "\n",
    "Ans. printing might work for simple scripts but for complex scripts, \n",
    "the printing approach will fail"
   ]
  },
  {
   "cell_type": "raw",
   "id": "9b17f2a8",
   "metadata": {},
   "source": [
    "Q9. What are the differences between the Step Over, Step In, and Step Out buttons in the debugger?\n",
    "\n",
    "Ans. \n",
    "\n",
    "1. Step Over : runs the code and then suspends execution at the first line of code after the called function returns.\n",
    "\n",
    "2. Step In : One line at a time\n",
    "\n",
    "3. Step Out : Step Out continues running code and suspends execution when the current function returns. "
   ]
  },
  {
   "cell_type": "raw",
   "id": "f0630010",
   "metadata": {},
   "source": [
    "Q10.After you click Continue, when will the debugger stop ?\n",
    "\n",
    "Ans. runs until the program terminate or reaches a breakpoint set."
   ]
  },
  {
   "cell_type": "raw",
   "id": "1abcac7e",
   "metadata": {},
   "source": [
    "Q11. What is the concept of a breakpoint?\n",
    "\n",
    "Ans.an intentional stopping or pausing place in a program, put in place for debugging purposes "
   ]
  }
 ],
 "metadata": {
  "kernelspec": {
   "display_name": "Python 3 (ipykernel)",
   "language": "python",
   "name": "python3"
  },
  "language_info": {
   "codemirror_mode": {
    "name": "ipython",
    "version": 3
   },
   "file_extension": ".py",
   "mimetype": "text/x-python",
   "name": "python",
   "nbconvert_exporter": "python",
   "pygments_lexer": "ipython3",
   "version": "3.8.5"
  }
 },
 "nbformat": 4,
 "nbformat_minor": 5
}
