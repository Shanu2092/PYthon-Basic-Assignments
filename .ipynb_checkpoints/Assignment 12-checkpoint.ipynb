{
 "cells": [
  {
   "cell_type": "code",
   "execution_count": 1,
   "id": "95b4da51",
   "metadata": {},
   "outputs": [],
   "source": [
    "#Q1. In what modes should the PdfFileReader() and PdfFileWriter() File objects will be opened?\n",
    "\n",
    "#Ans. PdfFileReader() should be opened with 'rb' and PdfFileWriter() should be opened with 'wb'"
   ]
  },
  {
   "cell_type": "code",
   "execution_count": null,
   "id": "c7e522ba",
   "metadata": {},
   "outputs": [],
   "source": [
    "#Q2. From a PdfFileReader object, how do you get a Page object for page 5?\n",
    "\n",
    "#Ans. pdfReader.getPage(5)"
   ]
  },
  {
   "cell_type": "code",
   "execution_count": null,
   "id": "65ff01aa",
   "metadata": {},
   "outputs": [],
   "source": [
    "#Q3. What PdfFileReader variable stores the number of pages in the PDF document?\n",
    "\n",
    "#Ans. pdfReader.getPage(0)"
   ]
  },
  {
   "cell_type": "code",
   "execution_count": null,
   "id": "597d07b7",
   "metadata": {},
   "outputs": [],
   "source": [
    "#Q4. If a PdfFileReader object’s PDF is encrypted with the password swordfish, what must you do\n",
    "#before you can obtain Page objects from it?\n",
    "\n",
    "#Ans. pdfReader.decrypt('rosebud')\n"
   ]
  },
  {
   "cell_type": "code",
   "execution_count": null,
   "id": "44ab39ba",
   "metadata": {},
   "outputs": [],
   "source": [
    "#Q5. What methods do you use to rotate a page?\n",
    "\n",
    "#Ans.    \n",
    "pageObj = pdfReader.getPage(page)\n",
    "pageObj.rotateClockwise(rotation)"
   ]
  },
  {
   "cell_type": "code",
   "execution_count": null,
   "id": "406463e5",
   "metadata": {},
   "outputs": [],
   "source": [
    "#Q6. What is the difference between a Run object and a Paragraph object?\n",
    "\n",
    "#Ans.  A Run object is a contiguous run of text with the same style.Paragraph objects contains a \n",
    "#list of one or more Run objects"
   ]
  },
  {
   "cell_type": "code",
   "execution_count": null,
   "id": "bd509f5f",
   "metadata": {},
   "outputs": [],
   "source": [
    "#Q7. How do you obtain a list of Paragraph objects for a Document object that’s stored in a variable\n",
    "#named doc?\n",
    "\n",
    "#Ans.\n",
    "def getText(filename):\n",
    "    doc = docx.Document(filename)\n",
    "    fullText = []\n",
    "    for para in doc.paragraphs:\n",
    "        fullText.append(para.text)\n",
    "    return '\\n'.join(fullText)"
   ]
  },
  {
   "cell_type": "raw",
   "id": "81fa231e",
   "metadata": {},
   "source": [
    "Q8. What type of object has bold, underline, italic, strike, and outline variables?\n",
    "\n",
    "Ans. Run Object text Attributes"
   ]
  },
  {
   "cell_type": "raw",
   "id": "7933a9fa",
   "metadata": {},
   "source": [
    "Q9. 9. What is the difference between False, True, and None for the bold variable?\n",
    "\n",
    "Ans. \n",
    "True (the attribute is always enabled, no matter what other styles are applied to the run), \n",
    "False (the attribute is always disabled), or \n",
    "None (defaults to whatever the run’s style is set to)."
   ]
  },
  {
   "cell_type": "raw",
   "id": "0fa0bb8a",
   "metadata": {},
   "source": [
    "Q10. How do you create a Document object for a new Word document?\n",
    "\n",
    "Ans. using docx module"
   ]
  },
  {
   "cell_type": "raw",
   "id": "a9e9b73b",
   "metadata": {},
   "source": [
    "Q11. How do you add a paragraph with the text 'Hello, there' to a Document object stored in a\n",
    "variable named doc?\n",
    "\n",
    "Ans. doc.add_paragraph('Hello world!')"
   ]
  },
  {
   "cell_type": "raw",
   "id": "ac16fa2a",
   "metadata": {},
   "source": [
    "Q12. What integers represent the levels of headings available in Word documents?\n",
    "\n",
    "Ans. doc.add_heading('Header 0', 0), it can be ('Header 1', 1),('Header 2', 2),('Header 3', 3),('Header 4', 4) as well"
   ]
  }
 ],
 "metadata": {
  "kernelspec": {
   "display_name": "Python 3 (ipykernel)",
   "language": "python",
   "name": "python3"
  },
  "language_info": {
   "codemirror_mode": {
    "name": "ipython",
    "version": 3
   },
   "file_extension": ".py",
   "mimetype": "text/x-python",
   "name": "python",
   "nbconvert_exporter": "python",
   "pygments_lexer": "ipython3",
   "version": "3.8.5"
  }
 },
 "nbformat": 4,
 "nbformat_minor": 5
}
