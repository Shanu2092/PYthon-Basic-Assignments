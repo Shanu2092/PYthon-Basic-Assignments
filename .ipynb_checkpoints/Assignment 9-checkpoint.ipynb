{
 "cells": [
  {
   "cell_type": "code",
   "execution_count": null,
   "metadata": {},
   "outputs": [],
   "source": [
    "'''1. To what does a relative path refer?\n",
    "2. What does an absolute path start with your operating system?\n",
    "3. What do the functions os.getcwd() and os.chdir() do?\n",
    "4. What are the . and .. folders?\n",
    "5. In C:\\bacon\\eggs\\spam.txt, which part is the dir name, and which part is the base name?\n",
    "6. What are the three “mode” arguments that can be passed to the open() function?\n",
    "7. What happens if an existing file is opened in write mode?\n",
    "8. How do you tell the difference between read() and readlines()?\n",
    "9. What data structure does a shelf value resemble?'''"
   ]
  },
  {
   "cell_type": "code",
   "execution_count": null,
   "metadata": {},
   "outputs": [],
   "source": [
    "#Q1. To what does a relative path refer?\n",
    "\n",
    "#Ans. It is used to get a relative filepath to the given path either from the current working \n",
    "#   directory or from the given directory"
   ]
  },
  {
   "cell_type": "code",
   "execution_count": null,
   "metadata": {},
   "outputs": [],
   "source": [
    "#Q2. What does an absolute path start with your operating system?\n",
    "\n",
    "#Ans.An absolute path refers to the complete details needed to locate a file or folder, \n",
    "# starting from the root element and ending with the other subdirectories. "
   ]
  },
  {
   "cell_type": "code",
   "execution_count": null,
   "metadata": {},
   "outputs": [],
   "source": [
    "#Q3. What do the functions os.getcwd() and os.chdir() do?\n",
    "\n",
    "#Ans. os.getcwd(): Return a unicode string representing the current working directory.\n",
    "# os.chdir() : Change the current working directory to the specified path."
   ]
  },
  {
   "cell_type": "code",
   "execution_count": null,
   "metadata": {},
   "outputs": [],
   "source": [
    "#Q4. What are the . and .. folders?\n",
    "\n",
    "#Ans. (.) is the current directory while (..) is the parent directory"
   ]
  },
  {
   "cell_type": "code",
   "execution_count": null,
   "metadata": {},
   "outputs": [],
   "source": [
    "#Q5. In C:\\bacon\\eggs\\spam.txt, which part is the dir name, and which part is the base name?\n",
    "\n",
    "#Ans. C:\\bacon\\eggs\\ is the directory name while spam.txt is the base name"
   ]
  },
  {
   "cell_type": "code",
   "execution_count": null,
   "metadata": {},
   "outputs": [],
   "source": [
    "#Q6. What are the three “mode” arguments that can be passed to the open() function?\n",
    "\n",
    "#Ans. r: open an existing file for a read operation.\n",
    "# w: open an existing file for a write operation. \n",
    "# a:  open an existing file for append operation. "
   ]
  },
  {
   "cell_type": "code",
   "execution_count": null,
   "metadata": {},
   "outputs": [],
   "source": [
    "#Q7. What happens if an existing file is opened in write mode?\n",
    "\n",
    "#Ans. it opens a file in write mode to write data in it, if the file is opened in write mode then\n",
    "# existing data will be removed, it also creates a file, if the file does not exist."
   ]
  },
  {
   "cell_type": "code",
   "execution_count": null,
   "metadata": {},
   "outputs": [],
   "source": [
    "#Q8. How do you tell the difference between read() and readlines()?\n",
    "\n",
    "\n",
    "#Ans. read() reads all of the file's contents into a string, \n",
    "# readline reads just a single line from the file"
   ]
  },
  {
   "cell_type": "code",
   "execution_count": null,
   "metadata": {},
   "outputs": [],
   "source": [
    "#Q9. What data structure does a shelf value resemble?\n",
    "\n",
    "#Ans. A shelf value resembles a dictionary value; it has keys and values, along with keys() and \n",
    "#values() methods that work similarly to the dictionary methods of the same names"
   ]
  }
 ],
 "metadata": {
  "kernelspec": {
   "display_name": "Python 3 (ipykernel)",
   "language": "python",
   "name": "python3"
  },
  "language_info": {
   "codemirror_mode": {
    "name": "ipython",
    "version": 3
   },
   "file_extension": ".py",
   "mimetype": "text/x-python",
   "name": "python",
   "nbconvert_exporter": "python",
   "pygments_lexer": "ipython3",
   "version": "3.8.5"
  }
 },
 "nbformat": 4,
 "nbformat_minor": 4
}
