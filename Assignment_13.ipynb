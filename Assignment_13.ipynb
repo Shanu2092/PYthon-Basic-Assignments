{
 "cells": [
  {
   "cell_type": "raw",
   "id": "18d470fa",
   "metadata": {},
   "source": [
    "Q1. What advantages do Excel spreadsheets have over CSV spreadsheets?\n",
    "\n",
    "Ans. \n",
    "1. Excel Spreadsheets are much more comfortable while dealing with large datasets while csv file format takes time with large datasets\n",
    "2. Excel is a binary file format,csv is a plain text format separated by comma(hence the name,comma separated values i.e. CSV)\n",
    "3. CSV consumes less memory than excel "
   ]
  },
  {
   "cell_type": "raw",
   "id": "d7cffdcd",
   "metadata": {},
   "source": [
    "Q2. What do you pass to csv.reader() and csv.writer() to create reader and writer objects?\n",
    "\n",
    "Ans. "
   ]
  }
 ],
 "metadata": {
  "kernelspec": {
   "display_name": "Python 3 (ipykernel)",
   "language": "python",
   "name": "python3"
  },
  "language_info": {
   "codemirror_mode": {
    "name": "ipython",
    "version": 3
   },
   "file_extension": ".py",
   "mimetype": "text/x-python",
   "name": "python",
   "nbconvert_exporter": "python",
   "pygments_lexer": "ipython3",
   "version": "3.8.5"
  }
 },
 "nbformat": 4,
 "nbformat_minor": 5
}
