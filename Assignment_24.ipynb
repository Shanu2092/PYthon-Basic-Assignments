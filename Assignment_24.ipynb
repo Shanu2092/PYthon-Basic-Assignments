{
 "cells": [
  {
   "cell_type": "markdown",
   "id": "f7390f86",
   "metadata": {},
   "source": [
    "1. What is the relationship between def statements and lambda expressions ?\n",
    "\n",
    "\n",
    "A lambda function is a small anonymous function.\n",
    " Python def keyword is used to define a function, it is placed before a function name that is provided by the user to create a user-defined function."
   ]
  },
  {
   "cell_type": "markdown",
   "id": "3a119f3c",
   "metadata": {},
   "source": [
    "2. What is the benefit of lambda?\n",
    "\n",
    "Fewer Lines of Code\n",
    "Lambda functions are inline functions and thus execute comparatively faster"
   ]
  },
  {
   "cell_type": "markdown",
   "id": "70ce6b7f",
   "metadata": {},
   "source": [
    "3. Compare and contrast map, filter, and reduce.\n",
    "\n",
    "\n",
    "map applies as a transformation to an element.\n",
    "The map() function iterates through all items in the given iterable and executes the function we \n",
    "passed as an argument on each of them.\n",
    "Syntax : map(function, iterable(s))\n",
    "\n",
    "\n",
    "filter accumulates only elements matching a condition.\n",
    "filter() forms a new list that contains only elements that satisfy a certain condition, i.e. the function we \n",
    "passed returns True\n",
    "Syntax : filter(function, iterable(s))\n",
    "\n",
    "\n",
    "reduce accumulates all elements to a single value, by using immutable values\n",
    "reduce() works by calling the function we passed for the first two items in the sequence. The result returned by \n",
    "the function is used in another call to function alongside with the next (third in this case), element\n",
    "Syntax : reduce(function, sequence[, initial])"
   ]
  },
  {
   "cell_type": "code",
   "execution_count": 2,
   "id": "3060e33a",
   "metadata": {},
   "outputs": [
    {
     "name": "stdout",
     "output_type": "stream",
     "text": [
      "True\n",
      "False\n",
      "False\n",
      "True\n",
      "False\n"
     ]
    }
   ],
   "source": [
    "### Map functions\n",
    "fruit = [\"Apple\", \"Banana\", \"Pear\", \"Apricot\", \"Orange\"]\n",
    "map_object = map(lambda s: s[0] == \"A\", fruit)\n",
    "\n",
    "#print(list(map_object))\n",
    "for i in map_object:\n",
    "    print(i)"
   ]
  },
  {
   "cell_type": "code",
   "execution_count": 3,
   "id": "8d4971d7",
   "metadata": {},
   "outputs": [
    {
     "name": "stdout",
     "output_type": "stream",
     "text": [
      "Apple\n",
      "Apricot\n"
     ]
    }
   ],
   "source": [
    "### Filter functions\n",
    "fruit = [\"Apple\", \"Banana\", \"Pear\", \"Apricot\", \"Orange\"]\n",
    "filter_object = filter(lambda s: s[0] == \"A\", fruit)\n",
    "\n",
    "for i in filter_object:\n",
    "    print(i)"
   ]
  },
  {
   "cell_type": "code",
   "execution_count": 4,
   "id": "cd702436",
   "metadata": {},
   "outputs": [
    {
     "name": "stdout",
     "output_type": "stream",
     "text": [
      "16\n"
     ]
    }
   ],
   "source": [
    "### Reduce function\n",
    "from functools import reduce\n",
    "\n",
    "def add(x, y):\n",
    "    return x + y\n",
    "\n",
    "list = [2, 4, 7, 3]\n",
    "print(reduce(add, list))"
   ]
  },
  {
   "cell_type": "markdown",
   "id": "4536dd98",
   "metadata": {},
   "source": [
    "4. What are function annotations, and how are they used?\n",
    "\n",
    "Function annotations are arbitrary python expressions that are associated with various part of functions. These expressions are evaluated at compile time and have no life in python’s runtime environment. Python does not attach any meaning to these annotations.\n",
    "\n"
   ]
  },
  {
   "cell_type": "markdown",
   "id": "e2aedec3",
   "metadata": {},
   "source": [
    "Annotations for simple parameters\n",
    "\n",
    "\n",
    "def foobar(a: expression, b: expression = 5):"
   ]
  },
  {
   "cell_type": "markdown",
   "id": "aba8a262",
   "metadata": {},
   "source": [
    "Annotations for excess parameters\n",
    "\n",
    "\n",
    "\n",
    "def foobar(*args: expression, *kwargs: expression):\n"
   ]
  },
  {
   "cell_type": "markdown",
   "id": "5dab0126",
   "metadata": {},
   "source": [
    "Annotations for nested paraeters\n",
    "\n",
    "\n",
    "def foobar((a: expression, b: expression), \n",
    "\n",
    "(c: expression, d: expression)):\n"
   ]
  },
  {
   "cell_type": "markdown",
   "id": "da9c8a11",
   "metadata": {},
   "source": [
    "5. What are recursive functions, and how are they used?\n",
    "\n",
    "A recursive function is a function that calls itself during its execution. \n",
    "This means that the function will continue to call itself and repeat its behavior until some condition is met to return \n",
    "a result"
   ]
  },
  {
   "cell_type": "code",
   "execution_count": 11,
   "id": "fbfbcd4b",
   "metadata": {},
   "outputs": [
    {
     "data": {
      "text/plain": [
       "6"
      ]
     },
     "execution_count": 11,
     "metadata": {},
     "output_type": "execute_result"
    }
   ],
   "source": [
    "def fact(x):\n",
    "    if x == 1 :\n",
    "        return 1\n",
    "    else :\n",
    "        return x * fact(x-1) # recursion\n",
    "    \n",
    "fact(3)"
   ]
  },
  {
   "cell_type": "markdown",
   "id": "d8adc3e2",
   "metadata": {},
   "source": [
    "6. What are some general design guidelines for coding functions?\n"
   ]
  },
  {
   "cell_type": "markdown",
   "id": "6bc95156",
   "metadata": {},
   "source": [
    "1. Use 4-space indentation and no tabs.\n",
    "\n",
    "2. Use docstrings\n",
    "\n",
    "3. Wrap linethat they don’t exceed 79 characters\n",
    "\n",
    "4. Use of regular and updated comments are valuable to both the coders and users\n",
    "\n",
    "5. Use of trailing commas : in case of tuple -> ('good',)\n",
    "\n",
    "6. Use Python’s default UTF-8 or ASCII encodings and not any fancy encodings\n",
    "\n",
    "7. Naming Conventions\n",
    "\n",
    "8. Characters that should not be used for identifiers :\n",
    "    ‘l’ (lowercase letter el), \n",
    "    ‘O’ (uppercase letter oh), \n",
    "    ‘I’ (uppercase letter eye) as single character variable names as these are similar to the     numerals one and zero.\n",
    "    \n",
    "9. Don’t use non-ASCII characters in identifiers\n",
    "\n",
    "10. Name your classes and functions consistently\n",
    "\n",
    "11. While naming of function of methods always use self for the first argument"
   ]
  },
  {
   "cell_type": "markdown",
   "id": "147fdd5c",
   "metadata": {},
   "source": [
    "7. Name three or more ways that functions can communicate results to a caller.\n"
   ]
  },
  {
   "cell_type": "markdown",
   "id": "e6f3216d",
   "metadata": {},
   "source": [
    "1. Function can return single value\n",
    "2. Can return multiple values, tuple\n",
    "3. can return list,dictionary\n",
    "4. can return function object\n",
    "5. can return class object"
   ]
  }
 ],
 "metadata": {
  "kernelspec": {
   "display_name": "Python 3 (ipykernel)",
   "language": "python",
   "name": "python3"
  },
  "language_info": {
   "codemirror_mode": {
    "name": "ipython",
    "version": 3
   },
   "file_extension": ".py",
   "mimetype": "text/x-python",
   "name": "python",
   "nbconvert_exporter": "python",
   "pygments_lexer": "ipython3",
   "version": "3.9.7"
  }
 },
 "nbformat": 4,
 "nbformat_minor": 5
}
