{
 "cells": [
  {
   "cell_type": "markdown",
   "id": "aa864be3",
   "metadata": {},
   "source": [
    "1. What is the difference between enclosing a list comprehension in square brackets and parentheses?"
   ]
  },
  {
   "cell_type": "markdown",
   "id": "f7116098",
   "metadata": {},
   "source": [
    "List Comprehension with square brackets produces list.\n",
    "List Comprehension with parentheses creates generators"
   ]
  },
  {
   "cell_type": "code",
   "execution_count": 3,
   "id": "829faf8f",
   "metadata": {},
   "outputs": [],
   "source": [
    "a = (i for i in range(10))"
   ]
  },
  {
   "cell_type": "code",
   "execution_count": 7,
   "id": "83b45d91",
   "metadata": {},
   "outputs": [],
   "source": [
    "b = [i for i in range(10)]"
   ]
  },
  {
   "cell_type": "code",
   "execution_count": 8,
   "id": "74872d42",
   "metadata": {},
   "outputs": [
    {
     "data": {
      "text/plain": [
       "(<generator object <genexpr> at 0x000001DFBD6E24A0>,\n",
       " [0, 1, 2, 3, 4, 5, 6, 7, 8, 9])"
      ]
     },
     "execution_count": 8,
     "metadata": {},
     "output_type": "execute_result"
    }
   ],
   "source": [
    "a,b"
   ]
  },
  {
   "cell_type": "markdown",
   "id": "a3dbe1cf",
   "metadata": {},
   "source": [
    "2. What is the relationship between generators and iterators?"
   ]
  },
  {
   "cell_type": "code",
   "execution_count": 12,
   "id": "f6db7e3c",
   "metadata": {},
   "outputs": [],
   "source": [
    "# iterator\n",
    "iter_list = iter(['Apple', 'Orange', 'Banana'])"
   ]
  },
  {
   "cell_type": "code",
   "execution_count": 13,
   "id": "bf95816a",
   "metadata": {},
   "outputs": [
    {
     "name": "stdout",
     "output_type": "stream",
     "text": [
      "Apple\n",
      "Orange\n",
      "Banana\n"
     ]
    }
   ],
   "source": [
    "print(next(iter_list))\n",
    "print(next(iter_list))\n",
    "print(next(iter_list))"
   ]
  },
  {
   "cell_type": "code",
   "execution_count": 24,
   "id": "6ad54945",
   "metadata": {},
   "outputs": [],
   "source": [
    "# Generator \n",
    "\n",
    "def sq_numbers(n):\n",
    "    for i in range(1, n+1):\n",
    "        yield i*i"
   ]
  },
  {
   "cell_type": "code",
   "execution_count": 25,
   "id": "dc49fa3e",
   "metadata": {},
   "outputs": [],
   "source": [
    "a = sq_numbers(5)"
   ]
  },
  {
   "cell_type": "code",
   "execution_count": 26,
   "id": "b9c069ad",
   "metadata": {},
   "outputs": [
    {
     "data": {
      "text/plain": [
       "1"
      ]
     },
     "execution_count": 26,
     "metadata": {},
     "output_type": "execute_result"
    }
   ],
   "source": [
    "a.__next__()"
   ]
  },
  {
   "cell_type": "markdown",
   "id": "a602f128",
   "metadata": {},
   "source": [
    "3. What are the signs that a function is a generator function?"
   ]
  },
  {
   "cell_type": "markdown",
   "id": "a6febb09",
   "metadata": {},
   "source": [
    "If a function contains at least one yield statement (it may contain other yield or return statements), it becomes a generator function. Both yield and return will return some value from a function."
   ]
  },
  {
   "cell_type": "markdown",
   "id": "71dbe5f4",
   "metadata": {},
   "source": [
    "4. What is the purpose of a yield statement?"
   ]
  },
  {
   "cell_type": "markdown",
   "id": "46237e39",
   "metadata": {},
   "source": [
    "A yield statement looks much like a return statement, except that instead of stopping execution of the function and \n",
    "returning, yield instead provides a value to the code looping over the generator and pauses execution of the generator \n",
    "function"
   ]
  },
  {
   "cell_type": "markdown",
   "id": "c5e11946",
   "metadata": {},
   "source": [
    "5. What is the relationship between map calls and list comprehensions? Make a comparison and contrast between the two."
   ]
  },
  {
   "cell_type": "raw",
   "id": "174d2ca9",
   "metadata": {},
   "source": [
    "Map function:\n",
    "Suppose we have a function and we want to compute this function for different values in a single line of code . This is where map() function plays its role. map() function returns a map object(which is an iterator) of the results after applying the given function to each item of a given iterable (list, tuple etc.)\n",
    "\n",
    "If we already have a function defined, it is often good to use map For example, map(sum, myLists) is more neat than [sum(x) for x in myLists]. You gain the elegance of not having to make up a dummy variable (e.g. sum(x) for x... or sum(_) for _... or sum(readableName) for readableName...) which you have to type twice, just to iterate.\n",
    "\n",
    "List Comprehension:\n",
    "List Comprehension is a substitute for the lambda function, map(), filter() and reduce()\n",
    "\n",
    "\n",
    "Comparision :\n",
    "    1. List comprehension is more concise and easier to read as compared to map\n",
    "    2. List comprehension allows filtering. In map, we have no such facility\n",
    "    For example, to print all even numbers in range of 100, we can write [n for n in range(100) if n%2 == 0]. There is \n",
    "    no alternate for it in map\n",
    "    3. List comprehension are used when a list of results is required, where as map only returns a map object and does \n",
    "    not return any list.\n",
    "    4. List comprehension is faster than map when we need to evaluate expressions that are too long or complicated \n",
    "    to express\n",
    "    5. Map is faster in case of calling an already defined function (as no lambda is required)"
   ]
  },
  {
   "cell_type": "code",
   "execution_count": null,
   "id": "401d0fc5",
   "metadata": {},
   "outputs": [],
   "source": []
  },
  {
   "cell_type": "code",
   "execution_count": null,
   "id": "bb4c41d9",
   "metadata": {},
   "outputs": [],
   "source": []
  },
  {
   "cell_type": "code",
   "execution_count": null,
   "id": "71b4c54d",
   "metadata": {},
   "outputs": [],
   "source": []
  },
  {
   "cell_type": "code",
   "execution_count": null,
   "id": "70078859",
   "metadata": {},
   "outputs": [],
   "source": []
  }
 ],
 "metadata": {
  "kernelspec": {
   "display_name": "Python 3 (ipykernel)",
   "language": "python",
   "name": "python3"
  },
  "language_info": {
   "codemirror_mode": {
    "name": "ipython",
    "version": 3
   },
   "file_extension": ".py",
   "mimetype": "text/x-python",
   "name": "python",
   "nbconvert_exporter": "python",
   "pygments_lexer": "ipython3",
   "version": "3.9.7"
  }
 },
 "nbformat": 4,
 "nbformat_minor": 5
}
